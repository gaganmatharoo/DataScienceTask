{
 "cells": [
  {
   "cell_type": "markdown",
   "metadata": {},
   "source": [
    "# Which team has won/lost maximum number of matches while chasing?"
   ]
  },
  {
   "cell_type": "code",
   "execution_count": 2,
   "metadata": {},
   "outputs": [],
   "source": [
    "import pandas as pd\n",
    "\n",
    "deliveries = pd.read_csv('data\\deliveries.csv')\n",
    "matches = pd.read_csv('data\\matches.csv')\n",
    "\n",
    "combined = deliveries.set_index('match_id').join(matches.set_index('id'), how='inner')"
   ]
  },
  {
   "cell_type": "code",
   "execution_count": 5,
   "metadata": {},
   "outputs": [],
   "source": [
    "#MATCHES LOST BY CHASING TEAM\n",
    "\n",
    "condition = combined.inning == 2\n",
    "df = combined.loc[condition,:]\n",
    "\n",
    "new_condition = df.batting_team != df.winner\n",
    "new_df = df.loc[new_condition,:]\n",
    "\n",
    "chaser_loss = new_df.groupby(new_df.batting_team).batting_team.count().sort_values(ascending=False)"
   ]
  },
  {
   "cell_type": "code",
   "execution_count": 6,
   "metadata": {},
   "outputs": [
    {
     "data": {
      "text/plain": [
       "batting_team\n",
       "Delhi Daredevils    5522\n",
       "Name: batting_team, dtype: int64"
      ]
     },
     "execution_count": 6,
     "metadata": {},
     "output_type": "execute_result"
    }
   ],
   "source": [
    "chaser_loss.head(1)"
   ]
  },
  {
   "cell_type": "code",
   "execution_count": 8,
   "metadata": {},
   "outputs": [],
   "source": [
    "#MATCHES LOST BY CHASING TEAM\n",
    "\n",
    "condition = combined.inning == 2\n",
    "df = combined.loc[condition, :]\n",
    "\n",
    "new_condition = df.batting_team == df.winner\n",
    "new_df = df.loc[new_condition,:]\n",
    "\n",
    "chaser_win = df.groupby(df.batting_team).batting_team.count().sort_values(ascending=False)"
   ]
  },
  {
   "cell_type": "code",
   "execution_count": 9,
   "metadata": {},
   "outputs": [
    {
     "data": {
      "text/plain": [
       "batting_team\n",
       "Kolkata Knight Riders    10728\n",
       "Name: batting_team, dtype: int64"
      ]
     },
     "execution_count": 9,
     "metadata": {},
     "output_type": "execute_result"
    }
   ],
   "source": [
    "chaser_win.head(1)"
   ]
  },
  {
   "cell_type": "code",
   "execution_count": null,
   "metadata": {},
   "outputs": [],
   "source": []
  },
  {
   "cell_type": "markdown",
   "metadata": {},
   "source": [
    "# Which toss decision is best for each ground?"
   ]
  },
  {
   "cell_type": "code",
   "execution_count": null,
   "metadata": {},
   "outputs": [],
   "source": [
    "cond1 = matches.team1 == matches.winner\n",
    "team1 = matches.loc[cond1,:]\n",
    "cond2 = matches.team2 == matches.winner\n",
    "team2 = matches.loc[cond2,:]\n",
    "\n",
    "venue = matches['venue'].value_counts().index\n",
    "\n",
    "\n",
    "for v in venue:\n",
    "    if(team1['venue'].value_counts()[v] > team2['venue'].value_counts()[v]):\n",
    "        print(v + \" -> Batting\" )\n",
    "    else:\n",
    "        print(v + \" -> Fielding\")\n",
    "\n"
   ]
  },
  {
   "cell_type": "markdown",
   "metadata": {},
   "source": [
    "# Which player has won maximum number of MoM awards while chasing?"
   ]
  },
  {
   "cell_type": "code",
   "execution_count": 11,
   "metadata": {},
   "outputs": [],
   "source": [
    "condition = matches.team2 == matches.winner\n",
    "df = matches.loc[condition,:]\n",
    "mom = df.groupby(df.player_of_match).player_of_match.count().sort_values(ascending=False)"
   ]
  },
  {
   "cell_type": "code",
   "execution_count": 12,
   "metadata": {},
   "outputs": [
    {
     "data": {
      "text/plain": [
       "player_of_match\n",
       "YK Pathan            11\n",
       "CH Gayle             10\n",
       "G Gambhir            10\n",
       "DR Smith              9\n",
       "RG Sharma             9\n",
       "SR Watson             9\n",
       "AB de Villiers        8\n",
       "MS Dhoni              8\n",
       "DA Warner             8\n",
       "JH Kallis             8\n",
       "V Kohli               8\n",
       "AM Rahane             7\n",
       "AD Russell            7\n",
       "V Sehwag              7\n",
       "UT Yadav              6\n",
       "AC Gilchrist          5\n",
       "A Mishra              5\n",
       "SP Narine             5\n",
       "SE Marsh              5\n",
       "SK Raina              5\n",
       "F du Plessis          4\n",
       "RV Uthappa            4\n",
       "S Dhawan              4\n",
       "RR Pant               4\n",
       "KL Rahul              4\n",
       "AT Rayudu             4\n",
       "BJ Hodge              4\n",
       "RA Jadeja             4\n",
       "Rashid Khan           4\n",
       "MEK Hussey            4\n",
       "                     ..\n",
       "MD Mishra             1\n",
       "K Ahmed               1\n",
       "K Rabada              1\n",
       "KC Sangakkara         1\n",
       "KK Cooper             1\n",
       "KV Sharma             1\n",
       "Kuldeep Yadav         1\n",
       "L Balaji              1\n",
       "L Ngidi               1\n",
       "LMP Simmons           1\n",
       "LR Shukla             1\n",
       "M Kartik              1\n",
       "Yuvraj Singh          1\n",
       "MA Starc              1\n",
       "MF Maharoof           1\n",
       "P Parameswaran        1\n",
       "MG Johnson            1\n",
       "MJ Lumb               1\n",
       "MJ McClenaghan        1\n",
       "MK Tiwary             1\n",
       "MM Sharma             1\n",
       "MP Stoinis            1\n",
       "MR Marsh              1\n",
       "MS Bisla              1\n",
       "Mandeep Singh         1\n",
       "Mohammed Shami        1\n",
       "Mohammed Siraj        1\n",
       "Mustafizur Rahman     1\n",
       "P Kumar               1\n",
       "A Kumble              1\n",
       "Name: player_of_match, Length: 178, dtype: int64"
      ]
     },
     "execution_count": 12,
     "metadata": {},
     "output_type": "execute_result"
    }
   ],
   "source": [
    "mom"
   ]
  },
  {
   "cell_type": "code",
   "execution_count": null,
   "metadata": {},
   "outputs": [],
   "source": []
  },
  {
   "cell_type": "markdown",
   "metadata": {},
   "source": [
    "# Which batsman has played maximum number of dot balls?"
   ]
  },
  {
   "cell_type": "code",
   "execution_count": 14,
   "metadata": {},
   "outputs": [],
   "source": [
    "condition = deliveries.total_runs == 0\n",
    "df = deliveries.loc[condition,:]\n",
    "\n",
    "new_df = df.groupby(df.batsman).batsman.count().sort_values(ascending=False)"
   ]
  },
  {
   "cell_type": "code",
   "execution_count": 15,
   "metadata": {},
   "outputs": [
    {
     "data": {
      "text/plain": [
       "batsman\n",
       "V Kohli             1369\n",
       "S Dhawan            1319\n",
       "RG Sharma           1291\n",
       "CH Gayle            1236\n",
       "RV Uthappa          1223\n",
       "SK Raina            1221\n",
       "G Gambhir           1170\n",
       "DA Warner           1114\n",
       "AM Rahane           1096\n",
       "SR Watson           1017\n",
       "MS Dhoni             972\n",
       "PA Patel             929\n",
       "KD Karthik           912\n",
       "BB McCullum          886\n",
       "JH Kallis            878\n",
       "M Vijay              870\n",
       "AT Rayudu            867\n",
       "Yuvraj Singh         864\n",
       "AB de Villiers       842\n",
       "MK Pandey            813\n",
       "R Dravid             746\n",
       "YK Pathan            744\n",
       "DR Smith             738\n",
       "SR Tendulkar         725\n",
       "SE Marsh             647\n",
       "KA Pollard           635\n",
       "AC Gilchrist         628\n",
       "V Sehwag             601\n",
       "NV Ojha              581\n",
       "MEK Hussey           572\n",
       "                    ... \n",
       "Avesh Khan             2\n",
       "DM Bravo               2\n",
       "R Ninan                2\n",
       "DJ Muthuswami          2\n",
       "Abdur Razzak           2\n",
       "PM Sarvesh Kumar       1\n",
       "U Kaul                 1\n",
       "K Ahmed                1\n",
       "S Tyagi                1\n",
       "JE Taylor              1\n",
       "R Salam                1\n",
       "S Lamichhane           1\n",
       "S Kaushik              1\n",
       "P Raj                  1\n",
       "Sunny Gupta            1\n",
       "J Denly                1\n",
       "Mashrafe Mortaza       1\n",
       "KP Appanna             1\n",
       "P Parameswaran         1\n",
       "VRV Singh              1\n",
       "SE Bond                1\n",
       "SJ Srivastava          1\n",
       "C Nanda                1\n",
       "VS Yeligati            1\n",
       "M de Lange             1\n",
       "RS Sodhi               1\n",
       "DAJ Bracewell          1\n",
       "Shivam Sharma          1\n",
       "DNT Zoysa              1\n",
       "V Pratap Singh         1\n",
       "Name: batsman, Length: 506, dtype: int64"
      ]
     },
     "execution_count": 15,
     "metadata": {},
     "output_type": "execute_result"
    }
   ],
   "source": [
    "new_df"
   ]
  },
  {
   "cell_type": "code",
   "execution_count": null,
   "metadata": {},
   "outputs": [],
   "source": []
  },
  {
   "cell_type": "markdown",
   "metadata": {},
   "source": [
    "# Which bowler has hit for maximum number of 1s/2s/3s/4s/6s?"
   ]
  },
  {
   "cell_type": "code",
   "execution_count": 17,
   "metadata": {},
   "outputs": [],
   "source": [
    "#MAX Number\n",
    "\n",
    "#1s\n",
    "\n",
    "cond_1 = deliveries.total_runs == 1\n",
    "df_1 = deliveries.loc[cond_1,:]\n",
    "maxbowl_1 = df_1.groupby(df_1.bowler).bowler.count().sort_values(ascending=False)"
   ]
  },
  {
   "cell_type": "code",
   "execution_count": 18,
   "metadata": {},
   "outputs": [
    {
     "data": {
      "text/plain": [
       "bowler\n",
       "Harbhajan Singh    1549\n",
       "Name: bowler, dtype: int64"
      ]
     },
     "execution_count": 18,
     "metadata": {},
     "output_type": "execute_result"
    }
   ],
   "source": [
    "maxbowl_1.head(1)"
   ]
  },
  {
   "cell_type": "code",
   "execution_count": 19,
   "metadata": {},
   "outputs": [],
   "source": [
    "#MAX Number\n",
    "\n",
    "#2s\n",
    "\n",
    "cond_2 = deliveries.total_runs == 2\n",
    "df_2 = deliveries.loc[cond_2,:]\n",
    "maxbowl_2 = df_2.groupby(df_2.bowler).bowler.count().sort_values(ascending=False)"
   ]
  },
  {
   "cell_type": "code",
   "execution_count": 21,
   "metadata": {},
   "outputs": [
    {
     "data": {
      "text/plain": [
       "bowler\n",
       "DJ Bravo    258\n",
       "Name: bowler, dtype: int64"
      ]
     },
     "execution_count": 21,
     "metadata": {},
     "output_type": "execute_result"
    }
   ],
   "source": [
    "maxbowl_2.head(1)"
   ]
  },
  {
   "cell_type": "code",
   "execution_count": 22,
   "metadata": {},
   "outputs": [],
   "source": [
    "#MAX Number\n",
    "\n",
    "#3s\n",
    "\n",
    "cond_3 = deliveries.total_runs == 3\n",
    "df_3 = deliveries.loc[cond_3,:]\n",
    "maxbowl_3 = df_3.groupby(df_3.bowler).bowler.count().sort_values(ascending=False)"
   ]
  },
  {
   "cell_type": "code",
   "execution_count": 23,
   "metadata": {},
   "outputs": [
    {
     "data": {
      "text/plain": [
       "bowler\n",
       "P Kumar    18\n",
       "Name: bowler, dtype: int64"
      ]
     },
     "execution_count": 23,
     "metadata": {},
     "output_type": "execute_result"
    }
   ],
   "source": [
    "maxbowl_3.head(1)"
   ]
  },
  {
   "cell_type": "code",
   "execution_count": 24,
   "metadata": {},
   "outputs": [],
   "source": [
    "#MAX Number\n",
    "\n",
    "#4s\n",
    "\n",
    "cond_4 = deliveries.total_runs == 4\n",
    "df_4 = deliveries.loc[cond_4,:]\n",
    "maxbowl_4 = df_4.groupby(df_4.bowler).bowler.count().sort_values(ascending=False)"
   ]
  },
  {
   "cell_type": "code",
   "execution_count": 25,
   "metadata": {},
   "outputs": [
    {
     "data": {
      "text/plain": [
       "bowler\n",
       "UT Yadav    389\n",
       "Name: bowler, dtype: int64"
      ]
     },
     "execution_count": 25,
     "metadata": {},
     "output_type": "execute_result"
    }
   ],
   "source": [
    "maxbowl_4.head(1)"
   ]
  },
  {
   "cell_type": "code",
   "execution_count": 26,
   "metadata": {},
   "outputs": [],
   "source": [
    "#MAX Number\n",
    "\n",
    "#6s\n",
    "\n",
    "cond_6 = deliveries.total_runs == 6\n",
    "df_6 = deliveries.loc[cond_6,:]\n",
    "maxbowl_6 = df_6.groupby(df_6.bowler).bowler.count().sort_values(ascending=False)"
   ]
  },
  {
   "cell_type": "code",
   "execution_count": 28,
   "metadata": {},
   "outputs": [
    {
     "data": {
      "text/plain": [
       "bowler\n",
       "PP Chawla    171\n",
       "Name: bowler, dtype: int64"
      ]
     },
     "execution_count": 28,
     "metadata": {},
     "output_type": "execute_result"
    }
   ],
   "source": [
    "maxbowl_6.head(1)"
   ]
  },
  {
   "cell_type": "code",
   "execution_count": null,
   "metadata": {},
   "outputs": [],
   "source": []
  },
  {
   "cell_type": "markdown",
   "metadata": {},
   "source": [
    "# Which batsman got stumped out maximum number of times?"
   ]
  },
  {
   "cell_type": "code",
   "execution_count": 30,
   "metadata": {},
   "outputs": [],
   "source": [
    "condition = deliveries.dismissal_kind == \"stumped\"\n",
    "df = deliveries.loc[condition,:]\n",
    "\n",
    "new_df = df.groupby(df.batsman).batsman.count().sort_values(ascending=False)"
   ]
  },
  {
   "cell_type": "code",
   "execution_count": 31,
   "metadata": {},
   "outputs": [
    {
     "data": {
      "text/plain": [
       "batsman\n",
       "SK Raina            8\n",
       "AT Rayudu           7\n",
       "RV Uthappa          7\n",
       "PA Patel            6\n",
       "AB de Villiers      6\n",
       "F du Plessis        6\n",
       "DA Warner           5\n",
       "M Vijay             5\n",
       "S Dhawan            5\n",
       "MC Henriques        4\n",
       "AM Rahane           4\n",
       "Mandeep Singh       4\n",
       "KD Karthik          4\n",
       "MS Bisla            4\n",
       "MK Tiwary           4\n",
       "WP Saha             4\n",
       "NV Ojha             3\n",
       "KP Pietersen        3\n",
       "KC Sangakkara       3\n",
       "JC Buttler          3\n",
       "IK Pathan           3\n",
       "RE van der Merwe    3\n",
       "RG Sharma           3\n",
       "MS Dhoni            3\n",
       "Yuvraj Singh        3\n",
       "S Badrinath         3\n",
       "DPMD Jayawardene    3\n",
       "AJ Finch            3\n",
       "SV Samson           3\n",
       "SS Tiwary           3\n",
       "                   ..\n",
       "M Ali               1\n",
       "PA Reddy            1\n",
       "S Gill              1\n",
       "M Morkel            1\n",
       "P Dogra             1\n",
       "Mohammed Shami      1\n",
       "MEK Hussey          1\n",
       "MF Maharoof         1\n",
       "MG Johnson          1\n",
       "MJ Clarke           1\n",
       "KK Cooper           1\n",
       "R Dhawan            1\n",
       "R Dravid            1\n",
       "KB Arun Karthik     1\n",
       "MK Pandey           1\n",
       "RT Ponting          1\n",
       "GH Vihari           1\n",
       "RP Singh            1\n",
       "RE Levi             1\n",
       "RA Jadeja           1\n",
       "HH Pandya           1\n",
       "R Vinay Kumar       1\n",
       "Ishan Kishan        1\n",
       "R Sathish           1\n",
       "JD Ryder            1\n",
       "JM Kemp             1\n",
       "JP Duminy           1\n",
       "K Goel              1\n",
       "KA Pollard          1\n",
       "A Chopra            1\n",
       "Name: batsman, Length: 139, dtype: int64"
      ]
     },
     "execution_count": 31,
     "metadata": {},
     "output_type": "execute_result"
    }
   ],
   "source": [
    "new_df"
   ]
  },
  {
   "cell_type": "code",
   "execution_count": null,
   "metadata": {},
   "outputs": [],
   "source": []
  },
  {
   "cell_type": "markdown",
   "metadata": {},
   "source": [
    "# Which non-striker has been part of maximum number of runouts?"
   ]
  },
  {
   "cell_type": "code",
   "execution_count": 33,
   "metadata": {},
   "outputs": [],
   "source": [
    "condition1 = deliveries.dismissal_kind == 'run out'\n",
    "df1 = deliveries.loc[condition1,:]\n",
    "\n",
    "condition2 = df1.non_striker == df1.player_dismissed\n",
    "df2 = df1.loc[condition2,:]\n",
    "\n",
    "new_df = df2.groupby(df2.non_striker).non_striker.count().sort_values(ascending=False)"
   ]
  },
  {
   "cell_type": "code",
   "execution_count": 34,
   "metadata": {},
   "outputs": [
    {
     "data": {
      "text/plain": [
       "non_striker\n",
       "AB de Villiers      8\n",
       "M Vijay             8\n",
       "G Gambhir           8\n",
       "SK Raina            7\n",
       "S Dhawan            6\n",
       "F du Plessis        6\n",
       "KD Karthik          6\n",
       "PA Patel            5\n",
       "AT Rayudu           5\n",
       "DPMD Jayawardene    5\n",
       "AM Rahane           5\n",
       "SL Malinga          5\n",
       "YK Pathan           5\n",
       "RV Uthappa          4\n",
       "P Negi              4\n",
       "P Kumar             4\n",
       "SP Narine           4\n",
       "Yuvraj Singh        4\n",
       "IK Pathan           4\n",
       "A Mishra            4\n",
       "V Sehwag            4\n",
       "Harbhajan Singh     4\n",
       "DR Smith            4\n",
       "MS Dhoni            3\n",
       "R Sharma            3\n",
       "JP Duminy           3\n",
       "C Munro             3\n",
       "R Vinay Kumar       3\n",
       "KH Pandya           3\n",
       "KM Jadhav           3\n",
       "                   ..\n",
       "LMP Simmons         1\n",
       "LJ Wright           1\n",
       "LA Pomersbach       1\n",
       "LA Carseldine       1\n",
       "Kuldeep Yadav       1\n",
       "RR Pant             1\n",
       "Kamran Akmal        1\n",
       "KV Sharma           1\n",
       "KS Williamson       1\n",
       "KP Pietersen        1\n",
       "KA Pollard          1\n",
       "K Paul              1\n",
       "YS Chahal           1\n",
       "MD Mishra           1\n",
       "MM Patel            1\n",
       "MM Sharma           1\n",
       "MR Marsh            1\n",
       "MS Gony             1\n",
       "Mohammad Nabi       1\n",
       "NM Coulter-Nile     1\n",
       "P Sahu              1\n",
       "PD Collingwood      1\n",
       "PJ Sangwan          1\n",
       "PV Tambe            1\n",
       "R Bhatia            1\n",
       "R Parag             1\n",
       "R Sathish           1\n",
       "RG Sharma           1\n",
       "RP Singh            1\n",
       "A Chopra            1\n",
       "Name: non_striker, Length: 203, dtype: int64"
      ]
     },
     "execution_count": 34,
     "metadata": {},
     "output_type": "execute_result"
    }
   ],
   "source": [
    "new_df"
   ]
  },
  {
   "cell_type": "code",
   "execution_count": null,
   "metadata": {},
   "outputs": [],
   "source": []
  },
  {
   "cell_type": "markdown",
   "metadata": {},
   "source": [
    "# Find maximum Man of the Matches"
   ]
  },
  {
   "cell_type": "code",
   "execution_count": 36,
   "metadata": {},
   "outputs": [
    {
     "data": {
      "text/plain": [
       "player_of_match\n",
       "CH Gayle          21\n",
       "AB de Villiers    20\n",
       "MS Dhoni          17\n",
       "DA Warner         17\n",
       "RG Sharma         17\n",
       "Name: player_of_match, dtype: int64"
      ]
     },
     "execution_count": 36,
     "metadata": {},
     "output_type": "execute_result"
    }
   ],
   "source": [
    "matches.groupby(matches.player_of_match).player_of_match.count().sort_values(ascending=False).head(5)"
   ]
  },
  {
   "cell_type": "markdown",
   "metadata": {},
   "source": [
    "# Total matches won by a team"
   ]
  },
  {
   "cell_type": "code",
   "execution_count": 44,
   "metadata": {},
   "outputs": [],
   "source": [
    "winner_series = matches.groupby(matches.winner).winner.count().sort_values(ascending=False)\n"
   ]
  },
  {
   "cell_type": "code",
   "execution_count": 43,
   "metadata": {
    "scrolled": true
   },
   "outputs": [
    {
     "data": {
      "text/plain": [
       "winner\n",
       "Mumbai Indians                 109\n",
       "Chennai Super Kings            100\n",
       "Kolkata Knight Riders           92\n",
       "Royal Challengers Bangalore     84\n",
       "Kings XI Punjab                 82\n",
       "Rajasthan Royals                75\n",
       "Delhi Daredevils                67\n",
       "Sunrisers Hyderabad             58\n",
       "Deccan Chargers                 29\n",
       "Gujarat Lions                   13\n",
       "Pune Warriors                   12\n",
       "Rising Pune Supergiant          10\n",
       "Delhi Capitals                  10\n",
       "Kochi Tuskers Kerala             6\n",
       "Rising Pune Supergiants          5\n",
       "Name: winner, dtype: int64"
      ]
     },
     "execution_count": 43,
     "metadata": {},
     "output_type": "execute_result"
    }
   ],
   "source": [
    "winner_series"
   ]
  },
  {
   "cell_type": "code",
   "execution_count": null,
   "metadata": {},
   "outputs": [],
   "source": []
  },
  {
   "cell_type": "markdown",
   "metadata": {},
   "source": [
    "# Total toss won by a team"
   ]
  },
  {
   "cell_type": "code",
   "execution_count": 46,
   "metadata": {},
   "outputs": [
    {
     "data": {
      "text/plain": [
       "toss_winner\n",
       "Mumbai Indians                 98\n",
       "Kolkata Knight Riders          92\n",
       "Chennai Super Kings            89\n",
       "Royal Challengers Bangalore    81\n",
       "Kings XI Punjab                81\n",
       "Rajasthan Royals               80\n",
       "Delhi Daredevils               80\n",
       "Sunrisers Hyderabad            46\n",
       "Deccan Chargers                43\n",
       "Pune Warriors                  20\n",
       "Gujarat Lions                  15\n",
       "Delhi Capitals                 10\n",
       "Kochi Tuskers Kerala            8\n",
       "Rising Pune Supergiants         7\n",
       "Rising Pune Supergiant          6\n",
       "Name: toss_winner, dtype: int64"
      ]
     },
     "execution_count": 46,
     "metadata": {},
     "output_type": "execute_result"
    }
   ],
   "source": [
    "matches.groupby(matches.toss_winner).toss_winner.count().sort_values(ascending=False)"
   ]
  },
  {
   "cell_type": "code",
   "execution_count": null,
   "metadata": {},
   "outputs": [],
   "source": []
  },
  {
   "cell_type": "markdown",
   "metadata": {},
   "source": [
    "# Find the types of dismissal_kind"
   ]
  },
  {
   "cell_type": "code",
   "execution_count": 48,
   "metadata": {},
   "outputs": [
    {
     "data": {
      "text/plain": [
       "array([nan, 'caught', 'bowled', 'run out', 'lbw', 'caught and bowled',\n",
       "       'stumped', 'retired hurt', 'hit wicket', 'obstructing the field'],\n",
       "      dtype=object)"
      ]
     },
     "execution_count": 48,
     "metadata": {},
     "output_type": "execute_result"
    }
   ],
   "source": [
    "deliveries.dismissal_kind.unique()"
   ]
  },
  {
   "cell_type": "code",
   "execution_count": null,
   "metadata": {},
   "outputs": [],
   "source": []
  },
  {
   "cell_type": "markdown",
   "metadata": {},
   "source": [
    "# Find the maximum type of dismissals"
   ]
  },
  {
   "cell_type": "code",
   "execution_count": 50,
   "metadata": {
    "scrolled": true
   },
   "outputs": [
    {
     "data": {
      "text/plain": [
       "dismissal_kind\n",
       "caught                   5348\n",
       "bowled                   1581\n",
       "run out                   852\n",
       "lbw                       540\n",
       "stumped                   278\n",
       "caught and bowled         211\n",
       "retired hurt               12\n",
       "hit wicket                 10\n",
       "obstructing the field       2\n",
       "Name: dismissal_kind, dtype: int64"
      ]
     },
     "execution_count": 50,
     "metadata": {},
     "output_type": "execute_result"
    }
   ],
   "source": [
    "deliveries.groupby(deliveries.dismissal_kind).dismissal_kind.count().sort_values(ascending=False)"
   ]
  },
  {
   "cell_type": "markdown",
   "metadata": {},
   "source": [
    "# Display Toss Decision as a Bar Graph"
   ]
  },
  {
   "cell_type": "code",
   "execution_count": 5,
   "metadata": {},
   "outputs": [
    {
     "data": {
      "text/plain": [
       "<matplotlib.axes._subplots.AxesSubplot at 0x1ca8152e198>"
      ]
     },
     "execution_count": 5,
     "metadata": {},
     "output_type": "execute_result"
    },
    {
     "data": {
      "image/png": "[encoded data removed]",
      "text/plain": [
       "<Figure size 432x288 with 1 Axes>"
      ]
     },
     "metadata": {
      "needs_background": "light"
     },
     "output_type": "display_data"
    }
   ],
   "source": [
    "%matplotlib inline\n",
    "matches[\"toss_decision\"].value_counts().plot(kind='bar')"
   ]
  }
 ],
 "metadata": {
  "kernelspec": {
   "display_name": "Python 3",
   "language": "python",
   "name": "python3"
  },
  "language_info": {
   "codemirror_mode": {
    "name": "ipython",
    "version": 3
   },
   "file_extension": ".py",
   "mimetype": "text/x-python",
   "name": "python",
   "nbconvert_exporter": "python",
   "pygments_lexer": "ipython3",
   "version": "3.6.0b4"
  }
 },
 "nbformat": 4,
 "nbformat_minor": 2
}
